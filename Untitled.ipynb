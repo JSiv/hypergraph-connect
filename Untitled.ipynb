{
 "cells": [
  {
   "cell_type": "code",
   "execution_count": 2,
   "metadata": {},
   "outputs": [
    {
     "name": "stdout",
     "output_type": "stream",
     "text": [
      "^C\n"
     ]
    }
   ],
   "source": [
    "!python train.py --model 4 --checkpoints ./checkpoints"
   ]
  },
  {
   "cell_type": "code",
   "execution_count": 3,
   "metadata": {},
   "outputs": [],
   "source": [
    "import argparse\n",
    "import os\n",
    "import random\n",
    "from shutil import copyfile\n",
    "import cv2\n",
    "import torch\n",
    "from torch.utils.data import DataLoader\n",
    "\n",
    "from src.config import Config\n",
    "from src.dataset import Dataset\n",
    "from src.metrics import PSNR, EdgeAccuracy\n",
    "from src.models import EdgeModel, InpaintingModel, RefineModel\n",
    "from src.utils import getVGGModel, Progbar, stitch_images, create_dir"
   ]
  },
  {
   "cell_type": "code",
   "execution_count": 12,
   "metadata": {},
   "outputs": [
    {
     "name": "stdout",
     "output_type": "stream",
     "text": [
      "./checkpoints\\config.yml\n"
     ]
    }
   ],
   "source": [
    "def load_config(mode=None):\n",
    "    parser = argparse.ArgumentParser()\n",
    "    parser.add_argument('--path', type=str, default='./checkpoints')\n",
    "    parser.add_argument('--checkpoints', type=str, default='./checkpoints')\n",
    "    parser.add_argument('--model', type=int, choices=[1, 2, 3, 4], default=4)\n",
    "\n",
    "    # test mode\n",
    "    if mode == 2:\n",
    "        parser.add_argument('--input', type=str, help='path to the input images directory or an input image')\n",
    "        parser.add_argument('--mask', type=str, help='path to the masks directory or a mask file')\n",
    "        parser.add_argument('--edge', type=str, help='path to the edges directory or an edge file')\n",
    "        parser.add_argument('--output', type=str, help='path to the output directory')\n",
    "\n",
    "    args = parser.parse_args([])\n",
    "    config_path = os.path.join(args.path, 'config.yml')\n",
    "    print(config_path)\n",
    "\n",
    "    # create checkpoints path if does't exist\n",
    "    if not os.path.exists(args.path):\n",
    "        os.makedirs(args.path)\n",
    "\n",
    "    # copy config template if does't exist\n",
    "    if not os.path.exists(config_path):\n",
    "        copyfile('./config.yml.example', config_path)\n",
    "\n",
    "    # load config file\n",
    "    configmain = Config(config_path)\n",
    "\n",
    "    # train mode\n",
    "    if mode == 1:\n",
    "        configmain.MODE = 1\n",
    "        if args.model:\n",
    "            configmain.MODEL = args.model\n",
    "\n",
    "    # test mode\n",
    "    elif mode == 2:\n",
    "        configmain.MODE = 2\n",
    "        configmain.MODEL = args.model if args.model is not None else 3\n",
    "        configmain.INPUT_SIZE = 0\n",
    "\n",
    "        if args.input is not None:\n",
    "            configmain.TEST_FLIST = args.input\n",
    "\n",
    "        if args.mask is not None:\n",
    "            configmain.TEST_MASK_FLIST = args.mask\n",
    "\n",
    "        if args.edge is not None:\n",
    "            configmain.TEST_EDGE_FLIST = args.edge\n",
    "\n",
    "        if args.output is not None:\n",
    "            configmain.RESULTS = args.output\n",
    "\n",
    "    # eval mode\n",
    "    elif mode == 3:\n",
    "        configmain.MODE = 3\n",
    "        configmain.MODEL = args.model if args.model is not None else 3\n",
    "\n",
    "    return configmain\n",
    "\n",
    "\n",
    "# Load Pre values\n",
    "config=load_config(1)"
   ]
  },
  {
   "cell_type": "code",
   "execution_count": 13,
   "metadata": {},
   "outputs": [],
   "source": [
    "TRAIN_FLIST= './checkpoints/datasets/train.flist'\n",
    "VAL_FLIST= './checkpoints/datasets/val.flist'\n",
    "TEST_FLIST= './checkpoints/datasets/test.flist'\n",
    "\n",
    "TRAIN_EDGE_FLIST: './checkpoints/datasets/places2_edges_train.flist'\n",
    "VAL_EDGE_FLIST: './checkpoints/datasets/places2_edges_val.flist'\n",
    "TEST_EDGE_FLIST: './checkpoints/datasets/places2_edges_test.flist'\n",
    "\n",
    "TRAIN_MASK_FLIST: './checkpoints/datasets/masks_train.flist'\n",
    "VAL_MASK_FLIST: './checkpoints/datasets/masks_train.flist'\n",
    "TEST_MASK_FLIST: './checkpoints/datasets/masks_train.flist'"
   ]
  },
  {
   "cell_type": "code",
   "execution_count": 14,
   "metadata": {},
   "outputs": [],
   "source": [
    "train_dataset = Dataset(config, config.TRAIN_FLIST, config.TRAIN_EDGE_FLIST, config.TRAIN_MASK_FLIST, augment=True,\n",
    "                        training=True)\n",
    "val_dataset = Dataset(config, config.VAL_FLIST, config.VAL_EDGE_FLIST, config.VAL_MASK_FLIST, augment=False, training=True)\n",
    "sample_iterator = val_dataset.create_iterator(config.SAMPLE_SIZE)\n",
    "train_loader = DataLoader(dataset=train_dataset, batch_size=config.BATCH_SIZE, num_workers=4, drop_last=True, shuffle=True)"
   ]
  },
  {
   "cell_type": "code",
   "execution_count": null,
   "metadata": {},
   "outputs": [],
   "source": [
    "for items in train_loader:\n",
    "    print(\"1\")\n",
    "    print(items)"
   ]
  },
  {
   "cell_type": "code",
   "execution_count": null,
   "metadata": {},
   "outputs": [],
   "source": []
  }
 ],
 "metadata": {
  "kernelspec": {
   "display_name": "Python 3",
   "language": "python",
   "name": "python3"
  },
  "language_info": {
   "codemirror_mode": {
    "name": "ipython",
    "version": 3
   },
   "file_extension": ".py",
   "mimetype": "text/x-python",
   "name": "python",
   "nbconvert_exporter": "python",
   "pygments_lexer": "ipython3",
   "version": "3.8.3"
  }
 },
 "nbformat": 4,
 "nbformat_minor": 4
}
